{
 "cells": [
  {
   "cell_type": "markdown",
   "metadata": {},
   "source": [
    "# Text-to-speech (TTS) \n",
    "\n",
    "This technology reads aloud digital text. It can take words on computers, smartphones, tablets and convert them into audio. Also, all kinds of text files can be read aloud, including Word, pages document, online web pages can be read aloud. TTS can help kids who struggle with reading. Many tools and apps are available to convert text into speech.\n",
    "\n",
    "Python comes with a lot of handy and easily accessible libraries and we’re going to look at how we can deliver text-to-speech with Python.\n",
    "\n",
    "Different API’s are available in Python in order to convert text to speech. One of Such API’s is the Google Text to Speech commonly known as the gTTS API. It is very easy to use the library which converts the text entered, into an audio file which can be saved as a mp3 file. It supports several languages and the speech can be delivered in any one of the two available audio speeds, fast or slow."
   ]
  },
  {
   "cell_type": "code",
   "execution_count": 2,
   "metadata": {},
   "outputs": [
    {
     "ename": "SyntaxError",
     "evalue": "invalid syntax (<ipython-input-2-21d496f1ab4a>, line 3)",
     "output_type": "error",
     "traceback": [
      "\u001b[1;36m  File \u001b[1;32m\"<ipython-input-2-21d496f1ab4a>\"\u001b[1;36m, line \u001b[1;32m3\u001b[0m\n\u001b[1;33m    pip install gTTS\u001b[0m\n\u001b[1;37m              ^\u001b[0m\n\u001b[1;31mSyntaxError\u001b[0m\u001b[1;31m:\u001b[0m invalid syntax\n"
     ]
    }
   ],
   "source": [
    "# install Google Text to Speech API\n",
    "\n",
    "pip install gTTS"
   ]
  },
  {
   "cell_type": "code",
   "execution_count": 3,
   "metadata": {},
   "outputs": [],
   "source": [
    "# mport gTTS library and “os” module in order to play the converted audio\n",
    "\n",
    "from gtts import gTTS \n",
    "import os"
   ]
  },
  {
   "cell_type": "code",
   "execution_count": 4,
   "metadata": {},
   "outputs": [
    {
     "name": "stdout",
     "output_type": "stream",
     "text": [
      "Enter your text to generate speech: Hi, my name is baji. i am learning python.\n"
     ]
    },
    {
     "data": {
      "text/plain": [
       "0"
      ]
     },
     "execution_count": 4,
     "metadata": {},
     "output_type": "execute_result"
    }
   ],
   "source": [
    "# Creating a text that we want to convert into audio\n",
    "\n",
    "text = input(\"Enter your text to generate speech: \")\n",
    "language = 'en'\n",
    "\n",
    "speech = gTTS(text = text, lang = language, slow = False)\n",
    "\n",
    "# Saving the converted audio in a mp3 file named called 'text.mp3'\n",
    "speech.save(\"text.mp3\")\n",
    "\n",
    "# Playing the converted file, using Windows command 'start' followed by the name of the mp3 file.\n",
    "os.system(\"start text.mp3\")"
   ]
  },
  {
   "cell_type": "markdown",
   "metadata": {},
   "source": [
    "# Convert a Text File into Speech\n",
    "Here, covert the text file into speech. Reading the text file and pass to gTTS module"
   ]
  },
  {
   "cell_type": "code",
   "execution_count": 5,
   "metadata": {},
   "outputs": [],
   "source": [
    "# Import gTTS and os library\n",
    "\n",
    "from gtts import gTTS \n",
    "import os"
   ]
  },
  {
   "cell_type": "code",
   "execution_count": 11,
   "metadata": {},
   "outputs": [
    {
     "data": {
      "text/plain": [
       "0"
      ]
     },
     "execution_count": 11,
     "metadata": {},
     "output_type": "execute_result"
    }
   ],
   "source": [
    "# Reading the text file and store into object called text. My file name is “TextToSpeech.txt”\n",
    "\n",
    "file = open(\"TextToSpeech.txt\", \"r\").read().replace(\"\\n\", \" \")\n",
    "\n",
    "# Choosing language English\n",
    "language = 'en'\n",
    "\n",
    "# Passing the text file into gTTS module and store into speech\n",
    "speech = gTTS(text = str(file), lang = language, slow = False)\n",
    "\n",
    "# Saving the converted audio in a mp3 file named called 'read.mp3'\n",
    "speech.save(\"read.mp3\")\n",
    "\n",
    "# Playing the mp3 file\n",
    "os.system(\"start read.mp3\")"
   ]
  },
  {
   "cell_type": "code",
   "execution_count": null,
   "metadata": {},
   "outputs": [],
   "source": []
  }
 ],
 "metadata": {
  "kernelspec": {
   "display_name": "Python 3",
   "language": "python",
   "name": "python3"
  },
  "language_info": {
   "codemirror_mode": {
    "name": "ipython",
    "version": 3
   },
   "file_extension": ".py",
   "mimetype": "text/x-python",
   "name": "python",
   "nbconvert_exporter": "python",
   "pygments_lexer": "ipython3",
   "version": "3.7.3"
  }
 },
 "nbformat": 4,
 "nbformat_minor": 2
}
